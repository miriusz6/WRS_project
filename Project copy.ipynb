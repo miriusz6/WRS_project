{
 "cells": [
  {
   "cell_type": "code",
   "execution_count": 3,
   "metadata": {},
   "outputs": [],
   "source": [
    "import pandas as pd\n",
    "import numpy as np\n",
    "import matplotlib.pyplot as plt\n",
    "from helpers import  read_N_prepare_data, plot_item_ratings_freq, plot_user_ratings_freq, calc_similarity, top_neighbours\n",
    "from helpers import get_item, get_items, get_user, get_users, get_user_item"
   ]
  },
  {
   "cell_type": "markdown",
   "metadata": {},
   "source": [
    "# Week 1"
   ]
  },
  {
   "cell_type": "markdown",
   "metadata": {},
   "source": [
    "### Data preprocessing"
   ]
  },
  {
   "cell_type": "code",
   "execution_count": 4,
   "metadata": {},
   "outputs": [],
   "source": [
    "def clean_data(df):\n",
    "    df['timestamp'] = pd.to_datetime(df['timestamp'], unit='ms')\n",
    "    df.astype({'user_id': 'str', 'item_id': 'str', 'rating': 'float'}, copy=False)\n",
    "    df.drop(['timestamp'], axis=1, inplace=True)\n",
    "    print(\"Data points initially:\", df.shape[0])\n",
    "    df.drop_duplicates(inplace=True, keep='first')\n",
    "    print(\"Data points after removing duplicates:\", df.shape[0])\n",
    "    \n",
    "    df.dropna(inplace=True)\n",
    "\n",
    "    # invalid user_id or item_id\n",
    "    t1 = df.loc[df['item_id'] == ''].shape[0] + df.loc[df['user_id'] == ''].shape[0]\n",
    "    assert t1 == 0\n",
    "    print(\"No invalid user_id or item_id\")\n",
    "    # invalid ratings\n",
    "    t2 = df.loc[df['rating'] < 0].shape[0] + df.loc[df['rating'] > 5].shape[0]  \n",
    "    assert t2 == 0\n",
    "    print(\"No invalid ratings\")\n",
    "\n",
    "    print(\"Data points after cleaning:\", df.shape[0])"
   ]
  },
  {
   "cell_type": "code",
   "execution_count": 5,
   "metadata": {},
   "outputs": [
    {
     "name": "stdout",
     "output_type": "stream",
     "text": [
      "--------------------------------------------------\n",
      "Cleaning test split:\n",
      "Data points initially: 3000\n",
      "Data points after removing duplicates: 1822\n",
      "No invalid user_id or item_id\n",
      "No invalid ratings\n",
      "Data points after cleaning: 1822\n",
      "--------------------------------------------------\n",
      "Cleaning training split:\n",
      "Data points initially: 11000\n",
      "Data points after removing duplicates: 9913\n",
      "No invalid user_id or item_id\n",
      "No invalid ratings\n",
      "Data points after cleaning: 9913\n",
      "--------------------------------------------------\n",
      "Training and Test compatibility check:\n",
      "users in training :  800\n",
      "items in training:  509\n",
      "users in test but not in training(dropping):  0\n",
      "items in test but not in training(dropping):  9\n",
      "users in test:  427\n",
      "items in test:  404\n",
      "Common users:  427\n",
      "Common items:  404\n",
      "All users:  800\n",
      "All items:  509\n",
      "Overlap between training and test data:  0\n",
      "--------------------------------------------------\n",
      "Final test data shape:  (1728, 3)\n",
      "Final training data shape:  (9913, 3)\n"
     ]
    }
   ],
   "source": [
    "# Preapre data\n",
    "df_t = pd.read_csv('data/test.tsv', sep='\\t')\n",
    "df = pd.read_csv('data/train.tsv', sep='\\t')\n",
    "# clean data\n",
    "print(''.join(['-']*50))\n",
    "print(\"Cleaning test split:\")\n",
    "clean_data(df_t)\n",
    "print(''.join(['-']*50))\n",
    "print(\"Cleaning training split:\")\n",
    "clean_data(df)\n",
    "print(''.join(['-']*50))\n",
    "\n",
    "print(\"Training and Test compatibility check:\")\n",
    "\n",
    "\n",
    "all_users_tr = set(df['user_id'])\n",
    "print('users in training : ',len(all_users_tr))\n",
    "all_items_tr = set(df['item_id'])\n",
    "print('items in training: ',len(all_items_tr))\n",
    "\n",
    "\n",
    "all_users_tst = set(df_t['user_id']) \n",
    "all_items_tst = set(df_t['item_id'])\n",
    "\n",
    "\n",
    "# check if all users in test are in training\n",
    "users_not_in_tr = all_users_tst.difference(all_users_tr)\n",
    "print('users in test but not in training(dropping): ', len(users_not_in_tr))\n",
    "\n",
    "# check if all items in test are in training\n",
    "items_not_in_tr = all_items_tst.difference(all_items_tr)\n",
    "print('items in test but not in training(dropping): ', len(items_not_in_tr))\n",
    "\n",
    "# drop users not in training\n",
    "df_t = df_t[~df_t['user_id'].isin(users_not_in_tr)]\n",
    "\n",
    "# drop items not in training\n",
    "df_t = df_t[~df_t['item_id'].isin(items_not_in_tr)]\n",
    "\n",
    "\n",
    "all_users_tst = list(set(df_t['user_id']))\n",
    "all_items_tst = list(set(df_t['item_id']))\n",
    "print('users in test: ',len(all_users_tst))\n",
    "print('items in test: ',len(all_items_tst))\n",
    "\n",
    "#common\n",
    "common_users = set(all_users_tr).intersection(all_users_tst)\n",
    "common_items = set(all_items_tr).intersection(all_items_tst)\n",
    "print(\"Common users: \", len(common_users))\n",
    "print(\"Common items: \", len(common_items))\n",
    "\n",
    "#all\n",
    "all_users = set(all_users_tr).union(all_users_tst)\n",
    "all_items = set(all_items_tr).union(all_items_tst)\n",
    "print(\"All users: \", len(all_users))\n",
    "print(\"All items: \", len(all_items))\n",
    "\n",
    "\n",
    "test_indx = df_t.set_index(['user_id', 'item_id']).index\n",
    "train_indx = df.set_index(['user_id', 'item_id']).index\n",
    "overlap = 0\n",
    "for u in common_users:\n",
    "    for i in common_items:\n",
    "        if (u,i) in test_indx and (u,i) in train_indx:\n",
    "            overlap += 1\n",
    "print(\"Overlap between training and test data: \", overlap)\n",
    "\n",
    "print(''.join(['-']*50))\n",
    "print(\"Final test data shape: \", df_t.shape)\n",
    "print(\"Final training data shape: \", df.shape)\n",
    "\n",
    "\n",
    "\n"
   ]
  },
  {
   "cell_type": "markdown",
   "metadata": {},
   "source": [
    "### Data Statistics"
   ]
  },
  {
   "cell_type": "code",
   "execution_count": 7,
   "metadata": {},
   "outputs": [
    {
     "data": {
      "text/html": [
       "<div>\n",
       "<style scoped>\n",
       "    .dataframe tbody tr th:only-of-type {\n",
       "        vertical-align: middle;\n",
       "    }\n",
       "\n",
       "    .dataframe tbody tr th {\n",
       "        vertical-align: top;\n",
       "    }\n",
       "\n",
       "    .dataframe thead th {\n",
       "        text-align: right;\n",
       "    }\n",
       "</style>\n",
       "<table border=\"1\" class=\"dataframe\">\n",
       "  <thead>\n",
       "    <tr style=\"text-align: right;\">\n",
       "      <th></th>\n",
       "      <th>user_id</th>\n",
       "      <th>item_id</th>\n",
       "      <th>rating</th>\n",
       "      <th>timestamp</th>\n",
       "      <th>count</th>\n",
       "    </tr>\n",
       "  </thead>\n",
       "  <tbody>\n",
       "    <tr>\n",
       "      <th>1512</th>\n",
       "      <td>AHEJYPLN7DMCYRQ2KCWQ5YIY6JDA</td>\n",
       "      <td>B0BPKH4HB2</td>\n",
       "      <td>5.0</td>\n",
       "      <td>1669857856601</td>\n",
       "      <td>6</td>\n",
       "    </tr>\n",
       "    <tr>\n",
       "      <th>959</th>\n",
       "      <td>AG5CLB4M2P4GCGANQS4WS3JGHFOQ</td>\n",
       "      <td>B09R2TMLJR</td>\n",
       "      <td>5.0</td>\n",
       "      <td>1656815832888</td>\n",
       "      <td>5</td>\n",
       "    </tr>\n",
       "    <tr>\n",
       "      <th>1088</th>\n",
       "      <td>AGC2Y4SQPG23KHUYXHSMOKIPJVGQ</td>\n",
       "      <td>B0064RTS0G</td>\n",
       "      <td>5.0</td>\n",
       "      <td>1585166179129</td>\n",
       "      <td>5</td>\n",
       "    </tr>\n",
       "    <tr>\n",
       "      <th>1757</th>\n",
       "      <td>AHUIUCGSUO6B2KRQLQ2UWRYXTH5Q</td>\n",
       "      <td>B0BKR2ZM9X</td>\n",
       "      <td>5.0</td>\n",
       "      <td>1584845977235</td>\n",
       "      <td>5</td>\n",
       "    </tr>\n",
       "    <tr>\n",
       "      <th>767</th>\n",
       "      <td>AFNKANPQUS5G3ENXFLAJ4CHWQGFQ</td>\n",
       "      <td>B081592T7F</td>\n",
       "      <td>5.0</td>\n",
       "      <td>1587658475788</td>\n",
       "      <td>5</td>\n",
       "    </tr>\n",
       "  </tbody>\n",
       "</table>\n",
       "</div>"
      ],
      "text/plain": [
       "                           user_id     item_id  rating      timestamp  count\n",
       "1512  AHEJYPLN7DMCYRQ2KCWQ5YIY6JDA  B0BPKH4HB2     5.0  1669857856601      6\n",
       "959   AG5CLB4M2P4GCGANQS4WS3JGHFOQ  B09R2TMLJR     5.0  1656815832888      5\n",
       "1088  AGC2Y4SQPG23KHUYXHSMOKIPJVGQ  B0064RTS0G     5.0  1585166179129      5\n",
       "1757  AHUIUCGSUO6B2KRQLQ2UWRYXTH5Q  B0BKR2ZM9X     5.0  1584845977235      5\n",
       "767   AFNKANPQUS5G3ENXFLAJ4CHWQGFQ  B081592T7F     5.0  1587658475788      5"
      ]
     },
     "execution_count": 7,
     "metadata": {},
     "output_type": "execute_result"
    }
   ],
   "source": [
    "# TEST DUPLICATES\n",
    "df_t_raw = pd.read_csv('data/test.tsv', sep='\\t')\n",
    "df_t_raw.shape\n",
    "df_t_raw.groupby(['user_id','item_id','rating','timestamp']).size().reset_index(name='count').sort_values(by='count', ascending=False).head(5)"
   ]
  },
  {
   "cell_type": "code",
   "execution_count": 8,
   "metadata": {},
   "outputs": [
    {
     "data": {
      "text/html": [
       "<div>\n",
       "<style scoped>\n",
       "    .dataframe tbody tr th:only-of-type {\n",
       "        vertical-align: middle;\n",
       "    }\n",
       "\n",
       "    .dataframe tbody tr th {\n",
       "        vertical-align: top;\n",
       "    }\n",
       "\n",
       "    .dataframe thead th {\n",
       "        text-align: right;\n",
       "    }\n",
       "</style>\n",
       "<table border=\"1\" class=\"dataframe\">\n",
       "  <thead>\n",
       "    <tr style=\"text-align: right;\">\n",
       "      <th></th>\n",
       "      <th>user_id</th>\n",
       "      <th>item_id</th>\n",
       "      <th>rating</th>\n",
       "      <th>timestamp</th>\n",
       "      <th>count</th>\n",
       "    </tr>\n",
       "  </thead>\n",
       "  <tbody>\n",
       "    <tr>\n",
       "      <th>762</th>\n",
       "      <td>AECRFIY3HZZG5KMU424HTLAKDGFA</td>\n",
       "      <td>B07DK59QNR</td>\n",
       "      <td>5.0</td>\n",
       "      <td>1529681473598</td>\n",
       "      <td>4</td>\n",
       "    </tr>\n",
       "    <tr>\n",
       "      <th>202</th>\n",
       "      <td>AE3Y65VROR3YICKMO6OJJ2LLN7RQ</td>\n",
       "      <td>B09BF8XDF4</td>\n",
       "      <td>5.0</td>\n",
       "      <td>1299875655000</td>\n",
       "      <td>4</td>\n",
       "    </tr>\n",
       "    <tr>\n",
       "      <th>9204</th>\n",
       "      <td>AHP54DEEFACVFPIFX7KZ3P32ZYVQ</td>\n",
       "      <td>B01DE4D4LU</td>\n",
       "      <td>5.0</td>\n",
       "      <td>1519671505067</td>\n",
       "      <td>3</td>\n",
       "    </tr>\n",
       "    <tr>\n",
       "      <th>9829</th>\n",
       "      <td>AHYQKMLIXHKFDHC7K2Y4JXM4YLOQ</td>\n",
       "      <td>B013ZHK4DM</td>\n",
       "      <td>5.0</td>\n",
       "      <td>1523749482759</td>\n",
       "      <td>3</td>\n",
       "    </tr>\n",
       "    <tr>\n",
       "      <th>1187</th>\n",
       "      <td>AEHPI7DGK45GM4JO4PP25BE3RZJQ</td>\n",
       "      <td>B09396NY1C</td>\n",
       "      <td>5.0</td>\n",
       "      <td>1424281371000</td>\n",
       "      <td>3</td>\n",
       "    </tr>\n",
       "  </tbody>\n",
       "</table>\n",
       "</div>"
      ],
      "text/plain": [
       "                           user_id     item_id  rating      timestamp  count\n",
       "762   AECRFIY3HZZG5KMU424HTLAKDGFA  B07DK59QNR     5.0  1529681473598      4\n",
       "202   AE3Y65VROR3YICKMO6OJJ2LLN7RQ  B09BF8XDF4     5.0  1299875655000      4\n",
       "9204  AHP54DEEFACVFPIFX7KZ3P32ZYVQ  B01DE4D4LU     5.0  1519671505067      3\n",
       "9829  AHYQKMLIXHKFDHC7K2Y4JXM4YLOQ  B013ZHK4DM     5.0  1523749482759      3\n",
       "1187  AEHPI7DGK45GM4JO4PP25BE3RZJQ  B09396NY1C     5.0  1424281371000      3"
      ]
     },
     "execution_count": 8,
     "metadata": {},
     "output_type": "execute_result"
    }
   ],
   "source": [
    "# TRAIN DUPLICATES\n",
    "df_t_raw = pd.read_csv('data/train.tsv', sep='\\t')\n",
    "df_t_raw.shape\n",
    "df_t_raw.groupby(['user_id','item_id','rating','timestamp']).size().reset_index(name='count').sort_values(by='count', ascending=False).head(5)"
   ]
  },
  {
   "cell_type": "code",
   "execution_count": 9,
   "metadata": {},
   "outputs": [
    {
     "name": "stdout",
     "output_type": "stream",
     "text": [
      "item_id\n",
      "B0BSGM6CQ9    158\n",
      "B0BPJ4Q6FJ    156\n",
      "B09857JRP2    143\n",
      "B0BCK6L7S5    132\n",
      "B08R5GM6YB    123\n",
      "B0BTC9YJ2W    122\n",
      "B08SJY4T7K     95\n",
      "B0B95V41NR     92\n",
      "B004XNK7AI     89\n",
      "B09V91H5XM     85\n",
      "Name: count, dtype: int64\n",
      "item_id\n",
      "B08Y6PVK2L    2\n",
      "B073RTT48C    2\n",
      "B08PBNXZYP    2\n",
      "B0B63DPVDK    2\n",
      "B075MCRFYZ    2\n",
      "B0C5CTX5LZ    1\n",
      "B0BNCDVD4M    1\n",
      "B0B2LMZ9RT    1\n",
      "B07DVX841V    1\n",
      "B07KRZ1HH8    1\n",
      "Name: count, dtype: int64\n"
     ]
    },
    {
     "data": {
      "image/png": "[encoded data removed]",
      "text/plain": [
       "<Figure size 800x500 with 1 Axes>"
      ]
     },
     "metadata": {},
     "output_type": "display_data"
    }
   ],
   "source": [
    "# ITEM RATINGS FREQUENCY\n",
    "p = plot_item_ratings_freq(df)\n"
   ]
  },
  {
   "cell_type": "code",
   "execution_count": 10,
   "metadata": {},
   "outputs": [
    {
     "name": "stdout",
     "output_type": "stream",
     "text": [
      "user_id\n",
      "AF7CC34DK36SQJS7WXI44DREGWJA    48\n",
      "AG5ZVXXHEXDYUUODSEQC4XXV7DPA    43\n",
      "AFJQQWO6VAZCTTY3GXNB3SEUU34Q    43\n",
      "AGVT5E2C6WNOCFYSLOCPAPBJOIKQ    41\n",
      "AG4ZLTRHVAZRU33BPY5Y643IZXPQ    40\n",
      "AHR6CSQFJVG5AHI25CP4NTJDEZFQ    38\n",
      "AG6ATLCKETNYRKL6GCQV35CSSGPA    36\n",
      "AHJQIRE3KBRMPLVEGQNUOTYILZDA    36\n",
      "AHNG3NRGEDYO7E44QMYDHMBADPBA    35\n",
      "AFDAU5M5NRUN4LYLI7N4YROKYLWA    34\n",
      "Name: count, dtype: int64\n",
      "user_id\n",
      "AHMMZCKZMV7U5SPYVE6IG2YACR7Q    2\n",
      "AFFOT7AORQAWKU6KKPDHR3FOA5AA    1\n",
      "AF2MGAQBAT3E4XQC7NNAQFYG4MIQ    1\n",
      "AEXXX2MQRH3AHZMBZBP4RDNGRRWQ    1\n",
      "AHMUAUOHLITDKIKI4C3KVRWIBMAQ    1\n",
      "AESA6T5VF3ADXH5GYRX2RDMN6I6Q    1\n",
      "AGMYRILPTJDOK7WL5OYHYGRYVXMQ    1\n",
      "AFGJ42MV2H2CHEZNN3JPQ3RSYUHQ    1\n",
      "AEMZMINSQYQBEDD3TPDQZZFFWIQA    1\n",
      "AGDEYWGZKNGR36MRO7ZT3AB45AXA    1\n",
      "Name: count, dtype: int64\n"
     ]
    },
    {
     "data": {
      "image/png": "[encoded data removed]",
      "text/plain": [
       "<Figure size 800x500 with 1 Axes>"
      ]
     },
     "metadata": {},
     "output_type": "display_data"
    }
   ],
   "source": [
    "# USER RATINGS FREQUENCY\n",
    "plot_user_ratings_freq(df)"
   ]
  },
  {
   "cell_type": "code",
   "execution_count": 11,
   "metadata": {},
   "outputs": [
    {
     "name": "stdout",
     "output_type": "stream",
     "text": [
      "Item:  B0BSGM6CQ9  Avg Rating:  4.69\n",
      "Item:  B0BPJ4Q6FJ  Avg Rating:  4.74\n",
      "Item:  B09857JRP2  Avg Rating:  4.77\n",
      "Item:  B0BCK6L7S5  Avg Rating:  4.3\n",
      "Item:  B08R5GM6YB  Avg Rating:  4.5\n"
     ]
    }
   ],
   "source": [
    "# Top 5 most rated items\n",
    "user_cnts = df.copy()\n",
    "sums = user_cnts.groupby('item_id').sum()\n",
    "top_rting_cnt_5 = user_cnts.groupby('item_id').count().sort_values(by='user_id', ascending=False).head(5)\n",
    "buff = sums.loc[top_rting_cnt_5.index]\n",
    "buff['rating'] = buff['rating'].values/top_rting_cnt_5['rating'].values\n",
    "\n",
    "for i, r in buff.iterrows():\n",
    "    print(\"Item: \", i, \" Avg Rating: \", round(r['rating'], 2))\n",
    "#for r_cnt in top_rting_cnt_5['rating'].values:\n",
    "    \n"
   ]
  },
  {
   "cell_type": "markdown",
   "metadata": {},
   "source": [
    "# Week 2"
   ]
  },
  {
   "cell_type": "code",
   "execution_count": 4,
   "metadata": {},
   "outputs": [
    {
     "data": {
      "text/html": [
       "<div>\n",
       "<style scoped>\n",
       "    .dataframe tbody tr th:only-of-type {\n",
       "        vertical-align: middle;\n",
       "    }\n",
       "\n",
       "    .dataframe tbody tr th {\n",
       "        vertical-align: top;\n",
       "    }\n",
       "\n",
       "    .dataframe thead th {\n",
       "        text-align: right;\n",
       "    }\n",
       "</style>\n",
       "<table border=\"1\" class=\"dataframe\">\n",
       "  <thead>\n",
       "    <tr style=\"text-align: right;\">\n",
       "      <th></th>\n",
       "      <th>item_id</th>\n",
       "    </tr>\n",
       "  </thead>\n",
       "  <tbody>\n",
       "    <tr>\n",
       "      <th>0</th>\n",
       "      <td>B0BPJ4Q6FJ</td>\n",
       "    </tr>\n",
       "    <tr>\n",
       "      <th>1</th>\n",
       "      <td>B0BSGM6CQ9</td>\n",
       "    </tr>\n",
       "    <tr>\n",
       "      <th>2</th>\n",
       "      <td>B09857JRP2</td>\n",
       "    </tr>\n",
       "    <tr>\n",
       "      <th>3</th>\n",
       "      <td>B0BTC9YJ2W</td>\n",
       "    </tr>\n",
       "    <tr>\n",
       "      <th>4</th>\n",
       "      <td>B08R5GM6YB</td>\n",
       "    </tr>\n",
       "    <tr>\n",
       "      <th>5</th>\n",
       "      <td>B0BCK6L7S5</td>\n",
       "    </tr>\n",
       "    <tr>\n",
       "      <th>6</th>\n",
       "      <td>B0B95V41NR</td>\n",
       "    </tr>\n",
       "    <tr>\n",
       "      <th>7</th>\n",
       "      <td>B004XNK7AI</td>\n",
       "    </tr>\n",
       "    <tr>\n",
       "      <th>8</th>\n",
       "      <td>B09V91H5XM</td>\n",
       "    </tr>\n",
       "    <tr>\n",
       "      <th>9</th>\n",
       "      <td>B08SJY4T7K</td>\n",
       "    </tr>\n",
       "  </tbody>\n",
       "</table>\n",
       "</div>"
      ],
      "text/plain": [
       "      item_id\n",
       "0  B0BPJ4Q6FJ\n",
       "1  B0BSGM6CQ9\n",
       "2  B09857JRP2\n",
       "3  B0BTC9YJ2W\n",
       "4  B08R5GM6YB\n",
       "5  B0BCK6L7S5\n",
       "6  B0B95V41NR\n",
       "7  B004XNK7AI\n",
       "8  B09V91H5XM\n",
       "9  B08SJY4T7K"
      ]
     },
     "execution_count": 4,
     "metadata": {},
     "output_type": "execute_result"
    }
   ],
   "source": [
    "#TOPOP\n",
    "def topPopK(df,r,k):\n",
    "    top = df.loc[df['rating'] > r].groupby(['item_id']).count().sort_values(by='rating', ascending=False).head(k)\n",
    "    \n",
    "    # top['item_id'] = top.index\n",
    "    # top.set_index('user_id', inplace=True)\n",
    "    top.reset_index(inplace=True)\n",
    "    top.drop(['user_id','rating'], axis=1, inplace=True)\n",
    "    return top\n",
    "topPopK(df,3,10)"
   ]
  },
  {
   "cell_type": "markdown",
   "metadata": {},
   "source": [
    "## Surprise"
   ]
  },
  {
   "cell_type": "code",
   "execution_count": 31,
   "metadata": {},
   "outputs": [],
   "source": [
    "#LOAD DATA\n",
    "from surprise import KNNWithMeans\n",
    "from surprise import Dataset, NormalPredictor, Reader\n",
    "from surprise.model_selection import cross_validate, GridSearchCV\n",
    "from surprise import accuracy\n",
    "\n",
    "# A reader is still needed but only the rating_scale param is required.\n",
    "reader = Reader(rating_scale=(1, 5))\n",
    "# The columns must correspond to user id, item id and ratings (in that order).\n",
    "data_train_pd = Dataset.load_from_df(df[[\"user_id\", \"item_id\", \"rating\"]], reader)\n",
    "\n",
    "# change dataformat for test\n",
    "data_test = []\n",
    "for i,u in df_t.iterrows():\n",
    "    uid = u['user_id']\n",
    "    iid = u['item_id']\n",
    "    r_ui= u['rating']\n",
    "    data_test.append((uid,iid,r_ui))"
   ]
  },
  {
   "cell_type": "markdown",
   "metadata": {},
   "source": [
    "### KNN"
   ]
  },
  {
   "cell_type": "code",
   "execution_count": 32,
   "metadata": {},
   "outputs": [
    {
     "name": "stdout",
     "output_type": "stream",
     "text": [
      "Computing the cosine similarity matrix...\n",
      "Done computing similarity matrix.\n"
     ]
    }
   ],
   "source": [
    "# PARAM SEARCH\n",
    "search = False\n",
    "if search:\n",
    "    knn_param_grid = {'k': [2, 5, 10, 15, 20],\n",
    "                    'sim_options': {\n",
    "                        'name': ['cosine', 'pearson'],\n",
    "                        'user_based': [True]},\n",
    "                    'verbose': [False]\n",
    "                    }\n",
    "\n",
    "    knn_gs = GridSearchCV(KNNWithMeans, knn_param_grid, measures=['rmse'], cv=5 )\n",
    "    knn_gs.fit(data_train_pd)\n",
    "    knn_gs_results_df = pd.DataFrame.from_dict(knn_gs.cv_results)\n",
    "\n",
    "    # best RMSE score\n",
    "    print(knn_gs.best_score[\"rmse\"])\n",
    "\n",
    "    # combination of parameters that gave the best RMSE score\n",
    "    bst_params = knn_gs.best_params[\"rmse\"]\n",
    "    print(bst_params)\n",
    "\n",
    "    K = bst_params['k']\n",
    "    sim_options = bst_params['sim_options']\n",
    "else:\n",
    "    K = 20\n",
    "    sim_options = {'name': 'cosine', 'user_based': True}\n",
    "knn_algo = KNNWithMeans(k=K, sim_options=sim_options)\n",
    "knn_algo = knn_algo.fit(data_train_pd.build_full_trainset())"
   ]
  },
  {
   "cell_type": "code",
   "execution_count": 33,
   "metadata": {},
   "outputs": [],
   "source": [
    "# Grid search results\n",
    "if search:\n",
    "    to_drop_cols = [ col for col in knn_gs_results_df.columns if ('time' in col) ]\n",
    "    to_drop_cols += ['param_verbose','params']\n",
    "    knn_gs_results_df.drop(columns=to_drop_cols, inplace=True)\n",
    "    knn_gs_results_df"
   ]
  },
  {
   "cell_type": "code",
   "execution_count": 34,
   "metadata": {},
   "outputs": [],
   "source": [
    "# Predict test data\n",
    "knn_preds = knn_algo.test(data_test)"
   ]
  },
  {
   "cell_type": "markdown",
   "metadata": {},
   "source": [
    "### SVD"
   ]
  },
  {
   "cell_type": "code",
   "execution_count": 35,
   "metadata": {},
   "outputs": [],
   "source": [
    "from surprise import SVD\n",
    "# PARAM SEARCH\n",
    "search = False\n",
    "if search:\n",
    "    svd_param_grid = {'n_factors': [2, 5, 10, 15, 20, 30],\n",
    "                    'n_epochs': [5, 10, 15, 20, 30],\n",
    "                    'verbose': [False]\n",
    "                    }\n",
    "\n",
    "    svd_gs = GridSearchCV(SVD, svd_param_grid, measures=['rmse'], cv=5 )\n",
    "    svd_gs.fit(data_train_pd)\n",
    "    svd_gs_results_df = pd.DataFrame.from_dict(svd_gs.cv_results)\n",
    "\n",
    "    #best RMSE score\n",
    "    print(svd_gs.best_score[\"rmse\"])\n",
    "\n",
    "    #combination of parameters that gave the best RMSE score\n",
    "    bst_params = svd_gs.best_params[\"rmse\"]\n",
    "    print(bst_params)\n",
    "\n",
    "    n_factors = bst_params['n_factors']\n",
    "    n_epochs = bst_params['n_epochs']\n",
    "else:\n",
    "    n_factors = 2\n",
    "    n_epochs = 20\n",
    "\n",
    "svd_algo = SVD(n_factors=n_factors, n_epochs=n_epochs)\n",
    "svd_algo = svd_algo.fit(data_train_pd.build_full_trainset())"
   ]
  },
  {
   "cell_type": "code",
   "execution_count": 36,
   "metadata": {},
   "outputs": [],
   "source": [
    "# Grid search results\n",
    "if search:\n",
    "    to_drop_cols = [ col for col in svd_gs_results_df.columns if ('time' in col) ]\n",
    "    to_drop_cols += ['param_verbose','params']\n",
    "    svd_gs_results_df.drop(columns=to_drop_cols, inplace=True)\n",
    "    svd_gs_results_df.columns\n",
    "    svd_gs_results_df"
   ]
  },
  {
   "cell_type": "code",
   "execution_count": 37,
   "metadata": {},
   "outputs": [],
   "source": [
    "# Predict Test data\n",
    "svd_preds = []\n",
    "for i in data_test:\n",
    "    pred = svd_algo.predict(uid = i[0], iid = i[1], r_ui = i[2], verbose=False)\n",
    "    if pred.details['was_impossible']:\n",
    "        print('User or item is unkown: \\n user: ',uid,' \\n item: ',iid)\n",
    "    svd_preds.append(pred)"
   ]
  },
  {
   "cell_type": "markdown",
   "metadata": {},
   "source": [
    "# Week 3"
   ]
  },
  {
   "cell_type": "markdown",
   "metadata": {},
   "source": [
    "#### RMSE for test predictions"
   ]
  },
  {
   "cell_type": "code",
   "execution_count": 38,
   "metadata": {},
   "outputs": [
    {
     "name": "stdout",
     "output_type": "stream",
     "text": [
      "RMSE: 1.0555\n",
      "RMSE: 0.9721\n"
     ]
    }
   ],
   "source": [
    "accuracy.rmse(knn_preds)\n",
    "accuracy.rmse(svd_preds)\n",
    "pass"
   ]
  },
  {
   "cell_type": "markdown",
   "metadata": {},
   "source": [
    "### Recommend top 10 for test users"
   ]
  },
  {
   "cell_type": "code",
   "execution_count": null,
   "metadata": {},
   "outputs": [
    {
     "data": {
      "text/html": [
       "<div>\n",
       "<style scoped>\n",
       "    .dataframe tbody tr th:only-of-type {\n",
       "        vertical-align: middle;\n",
       "    }\n",
       "\n",
       "    .dataframe tbody tr th {\n",
       "        vertical-align: top;\n",
       "    }\n",
       "\n",
       "    .dataframe thead th {\n",
       "        text-align: right;\n",
       "    }\n",
       "</style>\n",
       "<table border=\"1\" class=\"dataframe\">\n",
       "  <thead>\n",
       "    <tr style=\"text-align: right;\">\n",
       "      <th></th>\n",
       "      <th>item_id</th>\n",
       "      <th>rating</th>\n",
       "    </tr>\n",
       "    <tr>\n",
       "      <th>user_id</th>\n",
       "      <th></th>\n",
       "      <th></th>\n",
       "    </tr>\n",
       "  </thead>\n",
       "  <tbody>\n",
       "    <tr>\n",
       "      <th>AE23LDQTB7L76AP6E6WPBFVYL5DA</th>\n",
       "      <td>B0928HW2P4</td>\n",
       "      <td>1.0</td>\n",
       "    </tr>\n",
       "    <tr>\n",
       "      <th>AE23LDQTB7L76AP6E6WPBFVYL5DA</th>\n",
       "      <td>B0B95V41NR</td>\n",
       "      <td>1.0</td>\n",
       "    </tr>\n",
       "    <tr>\n",
       "      <th>AE23LDQTB7L76AP6E6WPBFVYL5DA</th>\n",
       "      <td>B09198262S</td>\n",
       "      <td>1.0</td>\n",
       "    </tr>\n",
       "    <tr>\n",
       "      <th>AE23LDQTB7L76AP6E6WPBFVYL5DA</th>\n",
       "      <td>B0B8F6LD9F</td>\n",
       "      <td>1.0</td>\n",
       "    </tr>\n",
       "    <tr>\n",
       "      <th>AE23LDQTB7L76AP6E6WPBFVYL5DA</th>\n",
       "      <td>B00CGFRJ2Y</td>\n",
       "      <td>1.0</td>\n",
       "    </tr>\n",
       "    <tr>\n",
       "      <th>AE23LDQTB7L76AP6E6WPBFVYL5DA</th>\n",
       "      <td>B0BPJ4Q6FJ</td>\n",
       "      <td>1.0</td>\n",
       "    </tr>\n",
       "    <tr>\n",
       "      <th>AE23LDQTB7L76AP6E6WPBFVYL5DA</th>\n",
       "      <td>B008BPI2OW</td>\n",
       "      <td>1.0</td>\n",
       "    </tr>\n",
       "    <tr>\n",
       "      <th>AE23LDQTB7L76AP6E6WPBFVYL5DA</th>\n",
       "      <td>B0BG95DG2H</td>\n",
       "      <td>1.0</td>\n",
       "    </tr>\n",
       "    <tr>\n",
       "      <th>AE2BV2H57ERXAPW7SOAXFLWA2S2Q</th>\n",
       "      <td>B07L6RCDP7</td>\n",
       "      <td>1.0</td>\n",
       "    </tr>\n",
       "    <tr>\n",
       "      <th>AE2BV2H57ERXAPW7SOAXFLWA2S2Q</th>\n",
       "      <td>B07L5B64RG</td>\n",
       "      <td>0.0</td>\n",
       "    </tr>\n",
       "    <tr>\n",
       "      <th>AE2NWSTL7JJJWOCBKZCZF6KDQIZQ</th>\n",
       "      <td>B00GK75WXC</td>\n",
       "      <td>1.0</td>\n",
       "    </tr>\n",
       "    <tr>\n",
       "      <th>AE2NWSTL7JJJWOCBKZCZF6KDQIZQ</th>\n",
       "      <td>B078L11275</td>\n",
       "      <td>1.0</td>\n",
       "    </tr>\n",
       "    <tr>\n",
       "      <th>AE2NWSTL7JJJWOCBKZCZF6KDQIZQ</th>\n",
       "      <td>B07TDNWYSB</td>\n",
       "      <td>1.0</td>\n",
       "    </tr>\n",
       "    <tr>\n",
       "      <th>AE2NWSTL7JJJWOCBKZCZF6KDQIZQ</th>\n",
       "      <td>B0B8Z6192W</td>\n",
       "      <td>1.0</td>\n",
       "    </tr>\n",
       "    <tr>\n",
       "      <th>AE2NWSTL7JJJWOCBKZCZF6KDQIZQ</th>\n",
       "      <td>B0BKR2ZM9X</td>\n",
       "      <td>1.0</td>\n",
       "    </tr>\n",
       "    <tr>\n",
       "      <th>AE2NWSTL7JJJWOCBKZCZF6KDQIZQ</th>\n",
       "      <td>B0002KZEAE</td>\n",
       "      <td>1.0</td>\n",
       "    </tr>\n",
       "    <tr>\n",
       "      <th>AE2NWSTL7JJJWOCBKZCZF6KDQIZQ</th>\n",
       "      <td>B097Q9W8MW</td>\n",
       "      <td>1.0</td>\n",
       "    </tr>\n",
       "    <tr>\n",
       "      <th>AE2NWSTL7JJJWOCBKZCZF6KDQIZQ</th>\n",
       "      <td>B0BLZD2X18</td>\n",
       "      <td>1.0</td>\n",
       "    </tr>\n",
       "    <tr>\n",
       "      <th>AE2NWSTL7JJJWOCBKZCZF6KDQIZQ</th>\n",
       "      <td>B0B81FBRNV</td>\n",
       "      <td>0.0</td>\n",
       "    </tr>\n",
       "    <tr>\n",
       "      <th>AE2NWSTL7JJJWOCBKZCZF6KDQIZQ</th>\n",
       "      <td>B01LKYTQOK</td>\n",
       "      <td>0.0</td>\n",
       "    </tr>\n",
       "  </tbody>\n",
       "</table>\n",
       "</div>"
      ],
      "text/plain": [
       "                                 item_id  rating\n",
       "user_id                                         \n",
       "AE23LDQTB7L76AP6E6WPBFVYL5DA  B0928HW2P4     1.0\n",
       "AE23LDQTB7L76AP6E6WPBFVYL5DA  B0B95V41NR     1.0\n",
       "AE23LDQTB7L76AP6E6WPBFVYL5DA  B09198262S     1.0\n",
       "AE23LDQTB7L76AP6E6WPBFVYL5DA  B0B8F6LD9F     1.0\n",
       "AE23LDQTB7L76AP6E6WPBFVYL5DA  B00CGFRJ2Y     1.0\n",
       "AE23LDQTB7L76AP6E6WPBFVYL5DA  B0BPJ4Q6FJ     1.0\n",
       "AE23LDQTB7L76AP6E6WPBFVYL5DA  B008BPI2OW     1.0\n",
       "AE23LDQTB7L76AP6E6WPBFVYL5DA  B0BG95DG2H     1.0\n",
       "AE2BV2H57ERXAPW7SOAXFLWA2S2Q  B07L6RCDP7     1.0\n",
       "AE2BV2H57ERXAPW7SOAXFLWA2S2Q  B07L5B64RG     0.0\n",
       "AE2NWSTL7JJJWOCBKZCZF6KDQIZQ  B00GK75WXC     1.0\n",
       "AE2NWSTL7JJJWOCBKZCZF6KDQIZQ  B078L11275     1.0\n",
       "AE2NWSTL7JJJWOCBKZCZF6KDQIZQ  B07TDNWYSB     1.0\n",
       "AE2NWSTL7JJJWOCBKZCZF6KDQIZQ  B0B8Z6192W     1.0\n",
       "AE2NWSTL7JJJWOCBKZCZF6KDQIZQ  B0BKR2ZM9X     1.0\n",
       "AE2NWSTL7JJJWOCBKZCZF6KDQIZQ  B0002KZEAE     1.0\n",
       "AE2NWSTL7JJJWOCBKZCZF6KDQIZQ  B097Q9W8MW     1.0\n",
       "AE2NWSTL7JJJWOCBKZCZF6KDQIZQ  B0BLZD2X18     1.0\n",
       "AE2NWSTL7JJJWOCBKZCZF6KDQIZQ  B0B81FBRNV     0.0\n",
       "AE2NWSTL7JJJWOCBKZCZF6KDQIZQ  B01LKYTQOK     0.0"
      ]
     },
     "execution_count": 39,
     "metadata": {},
     "output_type": "execute_result"
    }
   ],
   "source": [
    "# Train split to binary\n",
    "df_t_bin = df_t.copy()\n",
    "# to binary, and sort by rating\n",
    "df_t_bin.sort_values(by=['user_id', 'rating'], inplace=True, ascending=[True, False])\n",
    "df_t_bin.loc[df_t_bin['rating'] < 4, 'rating'] = 0\n",
    "df_t_bin.loc[df_t_bin['rating'] >= 4, 'rating'] = 1\n",
    "df_t_bin.set_index('user_id', inplace=True)\n",
    "df_t_bin.head(10)"
   ]
  },
  {
   "cell_type": "code",
   "execution_count": 40,
   "metadata": {},
   "outputs": [
    {
     "data": {
      "text/html": [
       "<div>\n",
       "<style scoped>\n",
       "    .dataframe tbody tr th:only-of-type {\n",
       "        vertical-align: middle;\n",
       "    }\n",
       "\n",
       "    .dataframe tbody tr th {\n",
       "        vertical-align: top;\n",
       "    }\n",
       "\n",
       "    .dataframe thead th {\n",
       "        text-align: right;\n",
       "    }\n",
       "</style>\n",
       "<table border=\"1\" class=\"dataframe\">\n",
       "  <thead>\n",
       "    <tr style=\"text-align: right;\">\n",
       "      <th></th>\n",
       "      <th>rating</th>\n",
       "    </tr>\n",
       "    <tr>\n",
       "      <th>user_id</th>\n",
       "      <th></th>\n",
       "    </tr>\n",
       "  </thead>\n",
       "  <tbody>\n",
       "    <tr>\n",
       "      <th>AEMSFZ4NLED647BP3ZCQEY3FNGKA</th>\n",
       "      <td>23.0</td>\n",
       "    </tr>\n",
       "    <tr>\n",
       "      <th>AGMYRILPTJDOK7WL5OYHYGRYVXMQ</th>\n",
       "      <td>13.0</td>\n",
       "    </tr>\n",
       "    <tr>\n",
       "      <th>AHMMZCKZMV7U5SPYVE6IG2YACR7Q</th>\n",
       "      <td>13.0</td>\n",
       "    </tr>\n",
       "    <tr>\n",
       "      <th>AF2MGAQBAT3E4XQC7NNAQFYG4MIQ</th>\n",
       "      <td>13.0</td>\n",
       "    </tr>\n",
       "    <tr>\n",
       "      <th>AHTIEJX7M6WFSN6ZAZIAZU7UBWUA</th>\n",
       "      <td>13.0</td>\n",
       "    </tr>\n",
       "  </tbody>\n",
       "</table>\n",
       "</div>"
      ],
      "text/plain": [
       "                              rating\n",
       "user_id                             \n",
       "AEMSFZ4NLED647BP3ZCQEY3FNGKA    23.0\n",
       "AGMYRILPTJDOK7WL5OYHYGRYVXMQ    13.0\n",
       "AHMMZCKZMV7U5SPYVE6IG2YACR7Q    13.0\n",
       "AF2MGAQBAT3E4XQC7NNAQFYG4MIQ    13.0\n",
       "AHTIEJX7M6WFSN6ZAZIAZU7UBWUA    13.0"
      ]
     },
     "execution_count": 40,
     "metadata": {},
     "output_type": "execute_result"
    }
   ],
   "source": [
    "# relavant items count\n",
    "relevant_cnt_tst = df_t_bin.groupby(['user_id']).sum()\n",
    "relevant_cnt_tst.drop(columns=['item_id'], inplace=True)\n",
    "# sort\n",
    "relevant_cnt_tst.sort_values(by=['rating'], inplace=True, ascending=False)\n",
    "#relevant_cnt_tst.columns = ['relevant_cnt']\n",
    "relevant_cnt_tst.head(5)"
   ]
  },
  {
   "cell_type": "code",
   "execution_count": 41,
   "metadata": {},
   "outputs": [],
   "source": [
    "# Define missing entries\n",
    "indxs_in_train = df.set_index(['user_id','item_id']).index\n",
    "\n",
    "# (uid,iid) pairs not training, where\n",
    "#  uids from test and iids from training\n",
    "missing_entries = []\n",
    "for u in all_users_tst:\n",
    "    for i in all_items_tst:\n",
    "        if (u,i) not in indxs_in_train:\n",
    "            missing_entries.append((u,i,0))"
   ]
  },
  {
   "cell_type": "markdown",
   "metadata": {},
   "source": [
    "#### KNN"
   ]
  },
  {
   "cell_type": "code",
   "execution_count": 42,
   "metadata": {},
   "outputs": [
    {
     "name": "stderr",
     "output_type": "stream",
     "text": [
      "C:\\Users\\newma\\AppData\\Local\\Temp\\ipykernel_25360\\1218529328.py:24: FutureWarning: The behavior of array concatenation with empty entries is deprecated. In a future version, this will no longer exclude empty items when determining the result dtype. To retain the old behavior, exclude the empty entries before the concat operation.\n",
      "  recommended_knn_10 = pd.concat([recommended_knn_10,recom])\n"
     ]
    }
   ],
   "source": [
    "# Predict Missing\n",
    "# much faster with test method\n",
    "missing_preds = knn_algo.test(missing_entries)\n",
    "\n",
    "uids = []\n",
    "iids = []\n",
    "pred_rtings = []\n",
    "for p in missing_preds:\n",
    "    uids.append(p.uid)\n",
    "    iids.append(p.iid)\n",
    "    pred_rtings.append(p.est)\n",
    "\n",
    "# predicted ratings for all test users, \n",
    "# and all training items without the ones given in training split\n",
    "missing_df = pd.DataFrame({'user_id':uids, 'item_id':iids, 'rating':pred_rtings})\n",
    "missing_df.sort_values(by=['user_id', 'rating'], inplace=True, ascending=[True, False])\n",
    "\n",
    "\n",
    "recommended_knn_10 = pd.DataFrame(columns=['user_id','item_id'])\n",
    "recommended_knn_10.set_index(['user_id'], inplace=True)\n",
    "a = 0\n",
    "for u in all_users_tst:\n",
    "    recom = missing_df.loc[missing_df['user_id'] == u].head(10)\n",
    "    recommended_knn_10 = pd.concat([recommended_knn_10,recom])"
   ]
  },
  {
   "cell_type": "code",
   "execution_count": 43,
   "metadata": {},
   "outputs": [
    {
     "name": "stdout",
     "output_type": "stream",
     "text": [
      "hits:  38  out of  4270  predictions\n",
      "Unique users with hits:  35\n",
      "hit rate:  0.08196721311475409\n",
      "Precision@10:  0.0089\n",
      "MAP:  0.0316\n",
      "MRR:  0.0299\n"
     ]
    }
   ],
   "source": [
    "P = recommended_knn_10.copy()\n",
    "P.set_index('user_id', inplace=True)\n",
    "P.columns = ['item_id','hit']\n",
    "P['hit_indx'] = np.full(len(P), -1)\n",
    "P['hit'] = np.zeros(len(P))\n",
    "T = df_t_bin.copy()\n",
    "\n",
    "unique_user_hits = 0\n",
    "us = []\n",
    "all_hits = 0\n",
    "all_preds = 0\n",
    "for u in all_users_tst:\n",
    "    user_hit = False\n",
    "    recom_items = P.loc[u]\n",
    "    recom_items = recom_items['item_id']\n",
    "    recom_items.reset_index(drop=True, inplace=True)\n",
    "    \n",
    "    seen_items = T.loc[u]['item_id']\n",
    "    all_preds += len(recom_items)\n",
    "    for itm in seen_items:    \n",
    "        #print(itm)\n",
    "        if itm in recom_items.values:\n",
    "            P.loc[(P.index == u) & (P['item_id'] == itm), 'hit'] = 1\n",
    "            P.loc[(P.index == u) & (P['item_id'] == itm), 'hit_indx'] = recom_items[recom_items == itm].index[0]+1\n",
    "            all_hits += 1\n",
    "            user_hit = True\n",
    "            \n",
    "        # else:\n",
    "        #     P.loc[(P.index == u) & (P['item_id'] == itm), 'hit'] = 0\n",
    "    if user_hit:\n",
    "        unique_user_hits += 1\n",
    "        us.append(u)\n",
    "    \n",
    "\n",
    "print(\"hits: \",all_hits,\" out of \",all_preds, \" predictions\")\n",
    "print(\"Unique users with hits: \",unique_user_hits)\n",
    "\n",
    "print(\"hit rate: \",unique_user_hits/len(all_users_tst))\n",
    "\n",
    "\n",
    "\n",
    "#PRECISSION\n",
    "precision = P.groupby('user_id')['hit'].sum().sort_values(ascending=False).sum()\n",
    "precision = precision/10\n",
    "precision = precision/len(all_users_tst)\n",
    "print(\"Precision@10: \", round(precision,4))\n",
    "\n",
    "#MAP\n",
    "ap = P[P['hit_indx'] != -1].copy()#  P.copy()\n",
    "ap['hit'] = ap['hit']/ap['hit_indx']\n",
    "ap = ap.groupby('user_id')['hit'].sum().sort_values(ascending=False).sum()\n",
    "map = ap/len(all_users_tst)\n",
    "print(\"MAP: \", round(map,4))\n",
    "\n",
    "#MRR\n",
    "buff = P[P['hit_indx'] != -1].copy()\n",
    "min_indxs = buff.groupby('user_id')['hit_indx'].min().values\n",
    "mrr = 1/min_indxs\n",
    "mrr = mrr.sum()/len(all_users_tst)\n",
    "print(\"MRR: \", round(mrr,4))"
   ]
  },
  {
   "cell_type": "markdown",
   "metadata": {},
   "source": [
    "#### SVD\n"
   ]
  },
  {
   "cell_type": "code",
   "execution_count": 44,
   "metadata": {},
   "outputs": [
    {
     "name": "stderr",
     "output_type": "stream",
     "text": [
      "C:\\Users\\newma\\AppData\\Local\\Temp\\ipykernel_25360\\146140264.py:24: FutureWarning: The behavior of array concatenation with empty entries is deprecated. In a future version, this will no longer exclude empty items when determining the result dtype. To retain the old behavior, exclude the empty entries before the concat operation.\n",
      "  recommended_svd_10 = pd.concat([recommended_svd_10,recom])\n"
     ]
    }
   ],
   "source": [
    "# Predict Missing\n",
    "# much faster with test method\n",
    "missing_preds = svd_algo.test(missing_entries)\n",
    "\n",
    "uids = []\n",
    "iids = []\n",
    "pred_rtings = []\n",
    "for p in missing_preds:\n",
    "    uids.append(p.uid)\n",
    "    iids.append(p.iid)\n",
    "    pred_rtings.append(p.est)\n",
    "\n",
    "# predicted ratings for all test users, \n",
    "# and all training items without the ones given in training split\n",
    "missing_df = pd.DataFrame({'user_id':uids, 'item_id':iids, 'rating':pred_rtings})\n",
    "missing_df.sort_values(by=['user_id', 'rating'], inplace=True, ascending=[True, False])\n",
    "\n",
    "\n",
    "recommended_svd_10 = pd.DataFrame(columns=['user_id','item_id'])\n",
    "recommended_svd_10.set_index(['user_id'], inplace=True)\n",
    "a = 0\n",
    "for u in all_users_tst:\n",
    "    recom = missing_df.loc[missing_df['user_id'] == u].head(10)\n",
    "    recommended_svd_10 = pd.concat([recommended_svd_10,recom])"
   ]
  },
  {
   "cell_type": "code",
   "execution_count": 45,
   "metadata": {},
   "outputs": [
    {
     "name": "stdout",
     "output_type": "stream",
     "text": [
      "hits:  38  out of  4270  predictions\n",
      "Unique users with hits:  34\n",
      "hit rate:  0.07962529274004684\n",
      "Precision@10:  0.0089\n",
      "MAP:  0.0264\n",
      "MRR:  0.0247\n"
     ]
    }
   ],
   "source": [
    "P = recommended_svd_10.copy()\n",
    "P.set_index('user_id', inplace=True)\n",
    "P.columns = ['item_id','hit']\n",
    "P['hit_indx'] = np.full(len(P), -1)\n",
    "P['hit'] = np.zeros(len(P))\n",
    "T = df_t_bin.copy()\n",
    "\n",
    "unique_user_hits = 0\n",
    "us = []\n",
    "all_hits = 0\n",
    "all_preds = 0\n",
    "for u in all_users_tst:\n",
    "    user_hit = False\n",
    "    recom_items = P.loc[u]\n",
    "    recom_items = recom_items['item_id']\n",
    "    recom_items.reset_index(drop=True, inplace=True)\n",
    "    \n",
    "    seen_items = T.loc[u]['item_id']\n",
    "    all_preds += len(recom_items)\n",
    "    for itm in seen_items:    \n",
    "        #print(itm)\n",
    "        if itm in recom_items.values:\n",
    "            P.loc[(P.index == u) & (P['item_id'] == itm), 'hit'] = 1\n",
    "            P.loc[(P.index == u) & (P['item_id'] == itm), 'hit_indx'] = recom_items[recom_items == itm].index[0]+1\n",
    "            all_hits += 1\n",
    "            user_hit = True\n",
    "            \n",
    "        # else:\n",
    "        #     P.loc[(P.index == u) & (P['item_id'] == itm), 'hit'] = 0\n",
    "    if user_hit:\n",
    "        unique_user_hits += 1\n",
    "        us.append(u)\n",
    "    \n",
    "\n",
    "print(\"hits: \",all_hits,\" out of \",all_preds, \" predictions\")\n",
    "print(\"Unique users with hits: \",unique_user_hits)\n",
    "\n",
    "print(\"hit rate: \",unique_user_hits/len(all_users_tst))\n",
    "\n",
    "\n",
    "\n",
    "#PRECISSION\n",
    "precision = P.groupby('user_id')['hit'].sum().sort_values(ascending=False).sum()\n",
    "precision = precision/10\n",
    "precision = precision/len(all_users_tst)\n",
    "print(\"Precision@10: \", round(precision,4))\n",
    "\n",
    "#MAP\n",
    "ap = P[P['hit_indx'] != -1].copy()#  P.copy()\n",
    "ap['hit'] = ap['hit']/ap['hit_indx']\n",
    "ap = ap.groupby('user_id')['hit'].sum().sort_values(ascending=False).sum()\n",
    "map = ap/len(all_users_tst)\n",
    "print(\"MAP: \", round(map,4))\n",
    "\n",
    "#MRR\n",
    "buff = P[P['hit_indx'] != -1].copy()\n",
    "min_indxs = buff.groupby('user_id')['hit_indx'].min().values\n",
    "mrr = 1/min_indxs\n",
    "mrr = mrr.sum()/len(all_users_tst)\n",
    "print(\"MRR: \", round(mrr,4))"
   ]
  },
  {
   "cell_type": "markdown",
   "metadata": {},
   "source": [
    "Hitrate fraction of users for which the relevant (e.g., purchased) item is\n",
    "within the top k items\n",
    "\n",
    "Precision is sum of hits by K by users\n",
    "\n",
    "Recall is sum of hits by all relevant (items rataed good by user)"
   ]
  },
  {
   "cell_type": "markdown",
   "metadata": {},
   "source": [
    "#### TOPOP"
   ]
  },
  {
   "cell_type": "code",
   "execution_count": 46,
   "metadata": {},
   "outputs": [
    {
     "name": "stderr",
     "output_type": "stream",
     "text": [
      "C:\\Users\\newma\\AppData\\Local\\Temp\\ipykernel_25360\\2418669985.py:8: FutureWarning: The behavior of array concatenation with empty entries is deprecated. In a future version, this will no longer exclude empty items when determining the result dtype. To retain the old behavior, exclude the empty entries before the concat operation.\n",
      "  recommended_toppop_10 = pd.concat([recommended_toppop_10,recom])\n"
     ]
    },
    {
     "name": "stdout",
     "output_type": "stream",
     "text": [
      "hits:  146  out of  4270  predictions\n",
      "Unique users with hits:  109\n",
      "hit rate:  0.25526932084309134\n",
      "Precision@10:  0.0342\n",
      "MAP:  0.1357\n",
      "MRR:  0.1168\n"
     ]
    }
   ],
   "source": [
    "recommended_toppop_10 = pd.DataFrame(columns=['user_id','item_id'])\n",
    "recommended_toppop_10.set_index(['user_id'], inplace=True)\n",
    "\n",
    "tp10 = topPopK(df,3,10)\n",
    "for u in all_users_tst:\n",
    "    recom = tp10.copy()\n",
    "    recom['user_id'] = u\n",
    "    recommended_toppop_10 = pd.concat([recommended_toppop_10,recom])\n",
    "\n",
    "#print(recommended_toppop_10)\n",
    "\n",
    "P = recommended_toppop_10.copy()\n",
    "P.set_index('user_id', inplace=True)\n",
    "#P.columns = ['item_id','hit']\n",
    "P['hit_indx'] = np.full(len(P), -1)\n",
    "P['hit'] = np.zeros(len(P))\n",
    "T = df_t_bin.copy()\n",
    "\n",
    "unique_user_hits = 0\n",
    "us = []\n",
    "all_hits = 0\n",
    "all_preds = 0\n",
    "for u in all_users_tst:\n",
    "    user_hit = False\n",
    "    recom_items = P.loc[u]\n",
    "    recom_items = recom_items['item_id']\n",
    "    recom_items.reset_index(drop=True, inplace=True)\n",
    "\n",
    "    \n",
    "    seen_items = T.loc[u]['item_id']\n",
    "    all_preds += len(recom_items)\n",
    "    for itm in seen_items:    \n",
    "        #print(itm)\n",
    "        if itm in recom_items.values:\n",
    "            P.loc[(P.index == u) & (P['item_id'] == itm), 'hit'] = 1\n",
    "            P.loc[(P.index == u) & (P['item_id'] == itm), 'hit_indx'] = recom_items[recom_items == itm].index[0]+1\n",
    "            all_hits += 1\n",
    "            user_hit = True\n",
    "            \n",
    "        # else:\n",
    "        #     P.loc[(P.index == u) & (P['item_id'] == itm), 'hit'] = 0\n",
    "    if user_hit:\n",
    "        unique_user_hits += 1\n",
    "        us.append(u)\n",
    "    \n",
    "\n",
    "print(\"hits: \",all_hits,\" out of \",all_preds, \" predictions\")\n",
    "print(\"Unique users with hits: \",unique_user_hits)\n",
    "\n",
    "print(\"hit rate: \",unique_user_hits/len(all_users_tst))\n",
    "\n",
    "\n",
    "\n",
    "#PRECISSION\n",
    "precision = P.groupby('user_id')['hit'].sum().sort_values(ascending=False).sum()\n",
    "precision = precision/10\n",
    "precision = precision/len(all_users_tst)\n",
    "print(\"Precision@10: \", round(precision,4))\n",
    "\n",
    "#MAP\n",
    "ap = P[P['hit_indx'] != -1].copy()#  P.copy()\n",
    "ap['hit'] = ap['hit']/ap['hit_indx']\n",
    "ap = ap.groupby('user_id')['hit'].sum().sort_values(ascending=False).sum()\n",
    "map = ap/len(all_users_tst)\n",
    "print(\"MAP: \", round(map,4))\n",
    "\n",
    "#MRR\n",
    "buff = P[P['hit_indx'] != -1].copy()\n",
    "min_indxs = buff.groupby('user_id')['hit_indx'].min().values\n",
    "mrr = 1/min_indxs\n",
    "mrr = mrr.sum()/len(all_users_tst)\n",
    "print(\"MRR: \", round(mrr,4))"
   ]
  },
  {
   "cell_type": "markdown",
   "metadata": {},
   "source": [
    "TOPPOP:\n",
    "hits:  146  out of  4270  predictions\n",
    "Unique users with hits:  109\n",
    "hit rate:  0.25526932084309134\n",
    "Precision@10:  0.0342\n",
    "MAP:  0.1357\n",
    "MRR:  0.1168\n",
    "\n",
    "\n",
    "KNN:\n",
    "hits:  38  out of  4270  predictions\n",
    "Unique users with hits:  35\n",
    "hit rate:  0.08196721311475409\n",
    "Precision@10:  0.0089\n",
    "MAP:  0.0316\n",
    "MRR:  0.0299\n",
    "\n",
    "SVD:\n",
    "hits:  38  out of  4270  predictions\n",
    "Unique users with hits:  34\n",
    "hit rate:  0.07962529274004684\n",
    "Precision@10:  0.0089\n",
    "MAP:  0.0264\n",
    "MRR:  0.0247\n"
   ]
  },
  {
   "cell_type": "markdown",
   "metadata": {},
   "source": [
    "ASSUMPTION ? : Data observed with a perfect recommender, or random recommendations?\n",
    "\n",
    "maybe should compute only for test items ? cuz maybe they ALWAYS rate"
   ]
  },
  {
   "cell_type": "markdown",
   "metadata": {},
   "source": [
    "# Week 4: Text Representation"
   ]
  },
  {
   "cell_type": "code",
   "execution_count": 6,
   "metadata": {},
   "outputs": [
    {
     "name": "stdout",
     "output_type": "stream",
     "text": [
      "Initial size: (23984, 3)\n",
      "Only relevant items: (509, 3)\n",
      "After removing duplicates: (509, 3)\n"
     ]
    },
    {
     "data": {
      "text/html": [
       "<div>\n",
       "<style scoped>\n",
       "    .dataframe tbody tr th:only-of-type {\n",
       "        vertical-align: middle;\n",
       "    }\n",
       "\n",
       "    .dataframe tbody tr th {\n",
       "        vertical-align: top;\n",
       "    }\n",
       "\n",
       "    .dataframe thead th {\n",
       "        text-align: right;\n",
       "    }\n",
       "</style>\n",
       "<table border=\"1\" class=\"dataframe\">\n",
       "  <thead>\n",
       "    <tr style=\"text-align: right;\">\n",
       "      <th></th>\n",
       "      <th>title</th>\n",
       "      <th>description</th>\n",
       "    </tr>\n",
       "    <tr>\n",
       "      <th>item_id</th>\n",
       "      <th></th>\n",
       "      <th></th>\n",
       "    </tr>\n",
       "  </thead>\n",
       "  <tbody>\n",
       "    <tr>\n",
       "      <th>B0B8M5FJ9W</th>\n",
       "      <td>D'Addario Accessories Locking Guitar Strap - G...</td>\n",
       "      <td>Product Description. Our patented design Plane...</td>\n",
       "    </tr>\n",
       "    <tr>\n",
       "      <th>B01FM8IN3U</th>\n",
       "      <td>Musiclily Electric Guitar Pickguard Compatible...</td>\n",
       "      <td></td>\n",
       "    </tr>\n",
       "    <tr>\n",
       "      <th>B0C5LYJXLR</th>\n",
       "      <td>Hosa GXX-145 XLR3F to XLR3F Gender Changer Ada...</td>\n",
       "      <td>Product Description. This adaptor is designed ...</td>\n",
       "    </tr>\n",
       "    <tr>\n",
       "      <th>B07HGRFG5J</th>\n",
       "      <td>IKN 3Ply White Strat Pickguard Backplate Set f...</td>\n",
       "      <td>Note:. 1. The color might be a liitle differen...</td>\n",
       "    </tr>\n",
       "    <tr>\n",
       "      <th>B007MY5BDI</th>\n",
       "      <td>D'Addario Guitar Strings - Acoustic Guitar Str...</td>\n",
       "      <td>80/20 Bronze are our brightest acoustic string...</td>\n",
       "    </tr>\n",
       "  </tbody>\n",
       "</table>\n",
       "</div>"
      ],
      "text/plain": [
       "                                                        title  \\\n",
       "item_id                                                         \n",
       "B0B8M5FJ9W  D'Addario Accessories Locking Guitar Strap - G...   \n",
       "B01FM8IN3U  Musiclily Electric Guitar Pickguard Compatible...   \n",
       "B0C5LYJXLR  Hosa GXX-145 XLR3F to XLR3F Gender Changer Ada...   \n",
       "B07HGRFG5J  IKN 3Ply White Strat Pickguard Backplate Set f...   \n",
       "B007MY5BDI  D'Addario Guitar Strings - Acoustic Guitar Str...   \n",
       "\n",
       "                                                  description  \n",
       "item_id                                                        \n",
       "B0B8M5FJ9W  Product Description. Our patented design Plane...  \n",
       "B01FM8IN3U                                                     \n",
       "B0C5LYJXLR  Product Description. This adaptor is designed ...  \n",
       "B07HGRFG5J  Note:. 1. The color might be a liitle differen...  \n",
       "B007MY5BDI  80/20 Bronze are our brightest acoustic string...  "
      ]
     },
     "execution_count": 6,
     "metadata": {},
     "output_type": "execute_result"
    }
   ],
   "source": [
    "# Preapre data\n",
    "df_meta = pd.read_csv('data/metadata.tsv', sep='\\t')\n",
    "print(\"Initial size:\", df_meta.shape)\n",
    "# keep only items in training and test\n",
    "df_meta = df_meta[df_meta['item_id'].isin(all_items)]\n",
    "print(\"Only relevant items:\", df_meta.shape)\n",
    "# check for duplicates\n",
    "df_meta.drop_duplicates(inplace=True, subset=['item_id'])\n",
    "print(\"After removing duplicates:\", df_meta.shape)\n",
    "# remove NaNs\n",
    "df_meta.replace(np.nan, \"\", inplace=True)\n",
    "#df_meta.reset_index(drop=True, inplace=True)\n",
    "df_meta.set_index('item_id', inplace=True)\n",
    "df_meta.head(5)"
   ]
  },
  {
   "cell_type": "markdown",
   "metadata": {},
   "source": [
    "#### TFIDF"
   ]
  },
  {
   "cell_type": "code",
   "execution_count": null,
   "metadata": {},
   "outputs": [
    {
     "name": "stderr",
     "output_type": "stream",
     "text": [
      "c:\\Users\\newma\\OneDrive\\KU\\RS\\WRS_project\\tfidf\\helpers.py:20: FutureWarning: Series.__getitem__ treating keys as positions is deprecated. In a future version, integer keys will always be treated as labels (consistent with DataFrame behavior). To access a value by position, use `ser.iloc[pos]`\n",
      "  toks = uniq_toks[i]\n",
      "c:\\Users\\newma\\OneDrive\\KU\\RS\\WRS_project\\tfidf\\helpers.py:20: FutureWarning: Series.__getitem__ treating keys as positions is deprecated. In a future version, integer keys will always be treated as labels (consistent with DataFrame behavior). To access a value by position, use `ser.iloc[pos]`\n",
      "  toks = uniq_toks[i]\n",
      "c:\\Users\\newma\\OneDrive\\KU\\RS\\WRS_project\\tfidf\\helpers.py:94: FutureWarning: Series.__getitem__ treating keys as positions is deprecated. In a future version, integer keys will always be treated as labels (consistent with DataFrame behavior). To access a value by position, use `ser.iloc[pos]`\n",
      "  ret[i,j] = cosine(vs[i],vs[j])\n"
     ]
    }
   ],
   "source": [
    "from tfidf.tokenizerX import TokenizerX\n",
    "from tfidf.helpers import tokenize_frame\n",
    "from tfidf.vectorizer import TfIdfVectorizer\n",
    "from tfidf.helpers import cosine_matrix\n",
    "# Empty tokenizer\n",
    "tokenizer_descr = TokenizerX()\n",
    "# create vocabulary, tokens, caluclate tf-idf\n",
    "df_desc_toks,df_desc_vocab = tokenize_frame(tokenizer_descr, df_meta, 'description')\n",
    "# choose tokens with doc freq > 2\n",
    "b = df_desc_vocab[df_desc_vocab['description_doc_freq'] > 2]\n",
    "# update tokenizer to chosen subset of tokens\n",
    "tokenizer_descr.from_vocab(b['description_word'], b['description_freq'])\n",
    "# assign new token ids, tokenize again\n",
    "df_desc_toks,df_desc_vocab = tokenize_frame(tokenizer_descr, df_meta, 'description')\n",
    "# from iid to tfidf vector\n",
    "vec_descr = TfIdfVectorizer(df_desc_toks['description_tf_idf'], df_desc_toks['description_uniq_tokens'], len(tokenizer_descr._word2idx))\n",
    "\n",
    "# calculate cosine similarity matrix\n",
    "df_tfitf = vec_descr.toVector(df_desc_toks.index)\n",
    "sim_matrix_tfitf_descr = cosine_matrix(df_tfitf)   "
   ]
  },
  {
   "cell_type": "markdown",
   "metadata": {},
   "source": [
    "### Word2Vec"
   ]
  },
  {
   "cell_type": "code",
   "execution_count": 8,
   "metadata": {},
   "outputs": [],
   "source": [
    "# Load google news w2v\n",
    "from gensim.models import KeyedVectors\n",
    "w2v_model = KeyedVectors.load_word2vec_format('C:\\KU\\WRS/GoogleNews-vectors-negative300.bin', binary=True)\n",
    "\n",
    "def w2v_sum(doc,model):\n",
    "    # expects list of tokens\n",
    "    v = np.zeros(300)\n",
    "    for tok in doc:\n",
    "        #if tok in model:\n",
    "            v += model[tok]\n",
    "\n",
    "    if len(doc) > 0:\n",
    "        v = v/np.linalg.norm(v)\n",
    "    return v"
   ]
  },
  {
   "cell_type": "code",
   "execution_count": null,
   "metadata": {},
   "outputs": [
    {
     "name": "stdout",
     "output_type": "stream",
     "text": [
      "Missing words:  1\n"
     ]
    },
    {
     "name": "stderr",
     "output_type": "stream",
     "text": [
      "c:\\Users\\newma\\OneDrive\\KU\\RS\\WRS_project\\tfidf\\helpers.py:94: FutureWarning: Series.__getitem__ treating keys as positions is deprecated. In a future version, integer keys will always be treated as labels (consistent with DataFrame behavior). To access a value by position, use `ser.iloc[pos]`\n",
      "  ret[i,j] = cosine(vs[i],vs[j])\n"
     ]
    }
   ],
   "source": [
    "# Update tokenizers stopwords with missing words in the w2v model\n",
    "desc_vocab = tokenizer_descr._word2idx.keys()\n",
    "missing = []\n",
    "for w in desc_vocab:\n",
    "    if w not in w2v_model:\n",
    "        missing.append(w)\n",
    "tokenizer_descr.stop_words.update(missing)\n",
    "print(\"Missing words: \", len(missing))\n",
    "\n",
    "\n",
    "# Create w2v sum for description\n",
    "df_w2v = pd.DataFrame(index=df_meta.index)\n",
    "# tokenize description\n",
    "df_w2v['description_tokens'] = df_meta['description'].apply(tokenizer_descr.tokenize, to_ids = False).values\n",
    "# calculate w2v sum\n",
    "df_w2v['description_tokens'] = df_w2v['description_tokens'].apply(w2v_sum, model = w2v_model)\n",
    "df_w2v.columns = ['description_w2v_sum']\n",
    "\n",
    "# Compute cosine similarity matrix\n",
    "sim_matrix_w2v_descr = cosine_matrix(df_w2v['description_w2v_sum'])"
   ]
  },
  {
   "cell_type": "code",
   "execution_count": 10,
   "metadata": {},
   "outputs": [],
   "source": [
    "def max_sim(sim_matrix):\n",
    "    # change 1s to -1s\n",
    "    sim_matrix = sim_matrix.replace(1, -1)\n",
    "    ret = pd.DataFrame(sim_matrix.index.values, columns=['iid1'])\n",
    "    iids = sim_matrix.idxmax(axis=1).values\n",
    "    ret['iid2'] = iids\n",
    "    ret.set_index(['iid1','iid2'], inplace=True)\n",
    "    ret['sim'] = sim_matrix.max(axis=1).values\n",
    "    ret.sort_values(by='sim', ascending=False, inplace=True)\n",
    "    # change back -1s to 1s\n",
    "    sim_matrix = sim_matrix.replace(-1, 1)\n",
    "    return ret\n",
    "\n",
    "    "
   ]
  },
  {
   "cell_type": "code",
   "execution_count": null,
   "metadata": {},
   "outputs": [],
   "source": [
    "max_sim_tfitf = max_sim(sim_matrix_tfitf_descr)\n",
    "max_sim_w2v = max_sim(sim_matrix_w2v_descr).head(30)\n",
    "# choose sim between 0.4 and 0.5\n",
    "#max_sim_tfitf = max_sim_tfitf[(max_sim_tfitf['sim'] > 0.4) & (max_sim_tfitf['sim'] < 0.5)]\n",
    "#max_sim_tfitf.head(5)"
   ]
  },
  {
   "cell_type": "code",
   "execution_count": 17,
   "metadata": {},
   "outputs": [
    {
     "data": {
      "text/plain": [
       "item_id\n",
       "1423414357    [0.0, 0.0, 0.0, 0.0, 0.0, 0.0, 0.0, 0.0, 0.0, ...\n",
       "B0002D01KO    [0.0, 0.0, 0.0, 0.0, 0.0, 0.0, 0.0, 0.0, 0.0, ...\n",
       "B0002D0CCQ    [0.0, 0.0, 0.0, 0.0, 0.0, 0.0, 0.0, 0.0, 0.083...\n",
       "B0002D0CEO    [0.05866608037786046, 0.07709592614659441, 0.0...\n",
       "B0002D0CNA    [0.0, 0.0, 0.0, 0.0, 0.0, 0.0, 0.0, 0.0, 0.0, ...\n",
       "dtype: object"
      ]
     },
     "execution_count": 17,
     "metadata": {},
     "output_type": "execute_result"
    }
   ],
   "source": [
    "M.head(5)"
   ]
  },
  {
   "cell_type": "markdown",
   "metadata": {},
   "source": [
    "remove the already rated from top!"
   ]
  }
 ],
 "metadata": {
  "kernelspec": {
   "display_name": "Python 3",
   "language": "python",
   "name": "python3"
  },
  "language_info": {
   "codemirror_mode": {
    "name": "ipython",
    "version": 3
   },
   "file_extension": ".py",
   "mimetype": "text/x-python",
   "name": "python",
   "nbconvert_exporter": "python",
   "pygments_lexer": "ipython3",
   "version": "3.10.8"
  }
 },
 "nbformat": 4,
 "nbformat_minor": 2
}
